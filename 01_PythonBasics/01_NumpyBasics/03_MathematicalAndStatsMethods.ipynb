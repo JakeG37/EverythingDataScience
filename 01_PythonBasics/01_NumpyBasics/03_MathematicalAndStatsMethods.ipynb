{
 "cells": [
  {
   "cell_type": "markdown",
   "metadata": {},
   "source": [
    "A set of mathematical functions that compute statistics about an entire array or about the data along an axis are accessible as methods of the array class. You can use aggregations (sometimes called reductions) like sum, mean, and std (standard deviation) either by calling the array instance method or using the top-level NumPy function. When you use the NumPy function, like numpy.sum, you have to pass the array you want to aggregate as the first argument."
   ]
  },
  {
   "cell_type": "code",
   "execution_count": null,
   "metadata": {},
   "outputs": [
    {
     "data": {
      "text/plain": [
       "array([[-1.42382504,  1.26372846, -0.87066174, -0.25917323],\n",
       "       [-0.07534331, -0.74088465, -1.3677927 ,  0.6488928 ],\n",
       "       [ 0.36105811, -1.95286306,  2.34740965,  0.96849691],\n",
       "       [-0.75938718,  0.90219827, -0.46695317, -0.06068952],\n",
       "       [ 0.78884434, -1.25666813,  0.57585751,  1.39897899]])"
      ]
     },
     "execution_count": 3,
     "metadata": {},
     "output_type": "execute_result"
    }
   ],
   "source": [
    "# Finding mean and sum of entire array\n",
    "\n",
    "import numpy as np\n",
    "rng = np.random.default_rng(seed=12345)\n",
    "arr = rng.standard_normal((5,4))\n",
    "print(arr.mean())\n",
    "print(arr.sum())"
   ]
  },
  {
   "cell_type": "code",
   "execution_count": 7,
   "metadata": {},
   "outputs": [
    {
     "name": "stdout",
     "output_type": "stream",
     "text": [
      "[-0.32248289 -0.38378196  0.4310254  -0.0962079   0.37675318]\n",
      "[-0.22173061 -0.35689782  0.04357191  0.53930119]\n"
     ]
    }
   ],
   "source": [
    "# finding mean and sum of specific rows/ columns \n",
    "# Here, arr.mean(axis=1) means \"compute mean across the columns,\" where arr.sum(axis=0) means \"compute sum down the rows.\"\n",
    "print(arr.mean(axis=1))\n",
    "print(arr.mean(axis=0))"
   ]
  },
  {
   "cell_type": "code",
   "execution_count": 9,
   "metadata": {},
   "outputs": [
    {
     "name": "stdout",
     "output_type": "stream",
     "text": [
      "[ 0  1  3  6 10 15 21 28]\n"
     ]
    }
   ],
   "source": [
    "# Other methods like cumsum and cumprod do not aggregate, instead producing an array of the intermediate results:\n",
    "arr = np.array([0, 1, 2, 3, 4, 5, 6, 7])\n",
    "print(arr.cumsum())"
   ]
  },
  {
   "cell_type": "code",
   "execution_count": 11,
   "metadata": {},
   "outputs": [
    {
     "name": "stdout",
     "output_type": "stream",
     "text": [
      "[[0 1 2]\n",
      " [3 4 5]\n",
      " [6 7 8]]\n",
      "\n",
      "[[ 0  1  2]\n",
      " [ 3  5  7]\n",
      " [ 9 12 15]]\n",
      "\n",
      "[[ 0  1  3]\n",
      " [ 3  7 12]\n",
      " [ 6 13 21]]\n"
     ]
    }
   ],
   "source": [
    "# The expression arr.cumsum(axis=0) computes the cumulative sum along the rows, while arr.cumsum(axis=1) computes the sums along the columns:\n",
    "arr = np.array([[0, 1, 2], [3, 4, 5], [6, 7, 8]])\n",
    "print(arr)\n",
    "print(\"\")\n",
    "print(arr.cumsum(axis=0))\n",
    "print(\"\")\n",
    "print(arr.cumsum(axis=1))"
   ]
  },
  {
   "cell_type": "code",
   "execution_count": null,
   "metadata": {},
   "outputs": [],
   "source": []
  }
 ],
 "metadata": {
  "kernelspec": {
   "display_name": ".venv",
   "language": "python",
   "name": "python3"
  },
  "language_info": {
   "codemirror_mode": {
    "name": "ipython",
    "version": 3
   },
   "file_extension": ".py",
   "mimetype": "text/x-python",
   "name": "python",
   "nbconvert_exporter": "python",
   "pygments_lexer": "ipython3",
   "version": "3.10.9"
  }
 },
 "nbformat": 4,
 "nbformat_minor": 2
}
