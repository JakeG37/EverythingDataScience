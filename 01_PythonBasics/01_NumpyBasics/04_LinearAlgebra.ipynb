{
 "cells": [
  {
   "cell_type": "markdown",
   "metadata": {},
   "source": [
    "# 4.6 Linear Algebra\n",
    "Linear algebra operations, like matrix multiplication, decompositions, determinants, and other square matrix math, are an important part of many array libraries. Multiplying two two-dimensional arrays with * is an element-wise product, while matrix multiplications require either using the dot function or the @ infix operator. dot is both an array method and a function in the numpy namespace for doing matrix multiplication:"
   ]
  },
  {
   "cell_type": "code",
   "execution_count": 1,
   "metadata": {},
   "outputs": [
    {
     "name": "stdout",
     "output_type": "stream",
     "text": [
      "[[ 28.  64.]\n",
      " [ 67. 181.]]\n"
     ]
    }
   ],
   "source": [
    "# Dot\n",
    "import numpy as np\n",
    "x = np.array([[1., 2., 3.], [4., 5., 6.]])\n",
    "y = np.array([[6., 23.], [-1, 7], [8, 9]])\n",
    "print(x.dot(y))"
   ]
  },
  {
   "cell_type": "code",
   "execution_count": 2,
   "metadata": {},
   "outputs": [
    {
     "name": "stdout",
     "output_type": "stream",
     "text": [
      "[[ 28.  64.]\n",
      " [ 67. 181.]]\n"
     ]
    }
   ],
   "source": [
    "# x.dot(y) is equivalent to np.dot(x, y):\n",
    "print(np.dot(x,y))"
   ]
  },
  {
   "cell_type": "code",
   "execution_count": 7,
   "metadata": {},
   "outputs": [
    {
     "name": "stdout",
     "output_type": "stream",
     "text": [
      "Matrix\n",
      "[[ 9.83867527  1.04334204  0.24651754  0.04017965  0.16391486]\n",
      " [ 1.04334204  5.11794735 -3.98521413  0.99264687  3.27464142]\n",
      " [ 0.24651754 -3.98521413  4.15026075 -2.41299778 -2.74788646]\n",
      " [ 0.04017965  0.99264687 -2.41299778  3.97263789 -0.04472489]\n",
      " [ 0.16391486  3.27464142 -2.74788646 -0.04472489  6.01956209]]\n",
      "Inverse Matrix:\n",
      "[[ 0.15548538 -0.36723081 -0.52638547 -0.2300642  -0.04646089]\n",
      " [-0.36723081  2.54917814  3.47827334  1.48196722  0.22206454]\n",
      " [-0.52638547  3.47827334  5.46389554  2.46214396  0.63467543]\n",
      " [-0.2300642   1.48196722  2.46214396  1.38302896  0.33430132]\n",
      " [-0.04646089  0.22206454  0.63467543  0.33430132  0.33879566]]\n",
      "Matrix Dot Inv Matrix:\n"
     ]
    },
    {
     "data": {
      "text/plain": [
       "array([[ 1.00000000e+00, -1.06863236e-16,  1.10504592e-15,\n",
       "         7.78108190e-17,  6.02310868e-17],\n",
       "       [ 1.56306273e-16,  1.00000000e+00, -2.04475914e-15,\n",
       "        -1.12712964e-15, -5.89007500e-16],\n",
       "       [-3.23287038e-17, -2.21742382e-15,  1.00000000e+00,\n",
       "         2.15395270e-16,  7.70870846e-17],\n",
       "       [ 6.18253781e-17,  3.24353009e-16, -1.15703342e-15,\n",
       "         1.00000000e+00, -2.77603664e-16],\n",
       "       [ 2.54399270e-16, -6.32605970e-16, -2.56443663e-15,\n",
       "        -8.36595300e-16,  1.00000000e+00]])"
      ]
     },
     "execution_count": 7,
     "metadata": {},
     "output_type": "execute_result"
    }
   ],
   "source": [
    "# numpy.linalg has a standard set of matrix decompositions and things like inverse and determinant:\n",
    "\n",
    "from numpy.linalg import inv, qr\n",
    "rng = np.random.default_rng(seed=12345)\n",
    "X = rng.standard_normal((5,5))\n",
    "\n",
    "mat = X.T @ X\n",
    "print(\"Matrix\")\n",
    "print(mat)\n",
    "\n",
    "print(\"Inverse Matrix:\")\n",
    "print(inv(mat))\n",
    "\n",
    "print(\"Matrix Dot Inv Matrix:\")\n",
    "mat @ inv(mat)"
   ]
  }
 ],
 "metadata": {
  "kernelspec": {
   "display_name": ".venv",
   "language": "python",
   "name": "python3"
  },
  "language_info": {
   "codemirror_mode": {
    "name": "ipython",
    "version": 3
   },
   "file_extension": ".py",
   "mimetype": "text/x-python",
   "name": "python",
   "nbconvert_exporter": "python",
   "pygments_lexer": "ipython3",
   "version": "3.10.9"
  }
 },
 "nbformat": 4,
 "nbformat_minor": 2
}
