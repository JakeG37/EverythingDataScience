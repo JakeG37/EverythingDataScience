{
 "cells": [
  {
   "cell_type": "markdown",
   "id": "7cba3fe0",
   "metadata": {},
   "source": [
    "In this notebbok, I will be trying to create my own linear regression class"
   ]
  },
  {
   "cell_type": "markdown",
   "id": "f1fc34b9",
   "metadata": {},
   "source": [
    "# Understanding the math behind Linear Regression"
   ]
  },
  {
   "cell_type": "code",
   "execution_count": 13,
   "id": "ac2d32d1",
   "metadata": {},
   "outputs": [],
   "source": [
    "class LinearRegressionGD:\n",
    "    def __init__(self, learning_rate = 0.01, n_iters=1000):\n",
    "        self.learning_rate = learning_rate\n",
    "        self.n_iters = n_iters\n",
    "        self.w = 0 # slope\n",
    "        self.b = 0 # intercept\n",
    "        self.losses = []\n",
    "\n",
    "    def fit(self, X, y):\n",
    "        # Gradient Descent\n",
    "        n_samples = len(X)\n",
    "\n",
    "        for _ in range(self.n_iters):\n",
    "            # predict current y\n",
    "            y_predicted = (self.w * X) + self.b\n",
    "\n",
    "            # calculate the gradients\n",
    "            dw = (-2/n_samples) * sum(X * (y - y_predicted))\n",
    "            db = (-2/n_samples) * sum(y - y_predicted)\n",
    "\n",
    "            # calculate MSE (loss)\n",
    "            MSE = (1/n_samples) * sum((y - y_predicted)**2)\n",
    "\n",
    "            # update the parameters and append loss\n",
    "            self.w = self.w - (self.learning_rate * dw)\n",
    "            self.b = self.b - (self.learning_rate * db)\n",
    "            self.losses.append(MSE)\n",
    "\n",
    "    def predict(self, X):\n",
    "        return (self.w * X) + self.b"
   ]
  },
  {
   "cell_type": "code",
   "execution_count": 19,
   "id": "22ffe4c8",
   "metadata": {},
   "outputs": [
    {
     "name": "stdout",
     "output_type": "stream",
     "text": [
      "Slope: 1.9999999999999973\n",
      "Intercept: 8.424360046094841e-15\n",
      "Predictions: [ 2.  4.  6.  8. 10.]\n"
     ]
    },
    {
     "data": {
      "text/plain": [
       "[<matplotlib.lines.Line2D at 0x2187f9f7970>]"
      ]
     },
     "execution_count": 19,
     "metadata": {},
     "output_type": "execute_result"
    },
    {
     "data": {
      "image/png": "[encoded data removed]",
      "text/plain": [
       "<Figure size 640x480 with 1 Axes>"
      ]
     },
     "metadata": {},
     "output_type": "display_data"
    }
   ],
   "source": [
    "import numpy as np\n",
    "import matplotlib.pyplot as plt\n",
    "# Generate fake linear data\n",
    "X = np.array([1, 2, 3, 4, 5])\n",
    "y = np.array([2, 4, 6, 8, 10])\n",
    "\n",
    "# create and train our model\n",
    "regressor = LinearRegressionGD(n_iters=10000)\n",
    "regressor.fit(X, y)\n",
    "\n",
    "# test predictions\n",
    "predictions = regressor.predict(X)\n",
    "\n",
    "print(f'Slope: {regressor.w}')\n",
    "print(f'Intercept: {regressor.b}')\n",
    "print(f'Predictions: {predictions}')\n",
    "plt.plot(regressor.losses)"
   ]
  },
  {
   "cell_type": "code",
   "execution_count": 20,
   "id": "681275de",
   "metadata": {},
   "outputs": [],
   "source": [
    "class MultipleLinearRegressionGD:\n",
    "    def __init__(self, learning_rate = 0.01, n_iters = 1000):\n",
    "        self.learning_rate = learning_rate\n",
    "        self.n_iters= n_iters\n",
    "        self.w = None # will be NumPy array later (vector of weights)\n",
    "        self.b = 0\n",
    "\n",
    "    def fit(self, X, y):\n",
    "        n_features = X.shape[1]\n",
    "        self.w = np.zeros(n_features)\n",
    "\n",
    "        n_samples = X.shape[0]\n",
    "\n",
    "        for _ in range(self.n_iters):\n",
    "            # predict current y\n",
    "            y_predicted = (X @ self.w) + self.b\n",
    "            errors = y - y_predicted\n",
    "\n",
    "            dw = (-2/n_samples) * (X.T @ errors)\n",
    "            db = (-2/n_samples) * sum(errors)\n",
    "\n",
    "            self.w = self.w - (self.learning_rate * dw)\n",
    "            self.b = self.b - (self.learning_rate * db)\n",
    "\n",
    "    def predict(self, X):\n",
    "        return((X @ self.w) + self.b)\n"
   ]
  },
  {
   "cell_type": "code",
   "execution_count": 22,
   "id": "d120ecc5",
   "metadata": {},
   "outputs": [
    {
     "name": "stdout",
     "output_type": "stream",
     "text": [
      "Learned weights: [3. 2.]\n",
      "Learned bias: 4.9999999999734985\n",
      "Predictions: [12. 17. 27. 26.]\n",
      "Actual: [12 17 27 26]\n",
      "MSE: 9.549454082868366e-23\n"
     ]
    }
   ],
   "source": [
    "import numpy as np\n",
    "\n",
    "# Create test data\n",
    "X = np.array([\n",
    "    [1, 2],\n",
    "    [2, 3],\n",
    "    [4, 5],\n",
    "    [3, 6]\n",
    "])\n",
    "\n",
    "y = np.array([\n",
    "    12,\n",
    "    17,\n",
    "    27,\n",
    "    26\n",
    "])\n",
    "\n",
    "# Initialize and train model\n",
    "model = MultipleLinearRegressionGD(learning_rate=0.01, n_iters=10000)\n",
    "model.fit(X, y)\n",
    "\n",
    "# Show results\n",
    "print(\"Learned weights:\", model.w)\n",
    "print(\"Learned bias:\", model.b)\n",
    "\n",
    "# Make predictions\n",
    "predictions = model.predict(X)\n",
    "print(\"Predictions:\", predictions)\n",
    "print(\"Actual:\", y)\n",
    "\n",
    "# Optional: Mean Squared Error\n",
    "mse = np.mean((y - predictions)**2)\n",
    "print(\"MSE:\", mse)\n"
   ]
  },
  {
   "cell_type": "code",
   "execution_count": null,
   "id": "c864ac85",
   "metadata": {},
   "outputs": [],
   "source": []
  }
 ],
 "metadata": {
  "kernelspec": {
   "display_name": ".venv",
   "language": "python",
   "name": "python3"
  },
  "language_info": {
   "codemirror_mode": {
    "name": "ipython",
    "version": 3
   },
   "file_extension": ".py",
   "mimetype": "text/x-python",
   "name": "python",
   "nbconvert_exporter": "python",
   "pygments_lexer": "ipython3",
   "version": "3.10.9"
  }
 },
 "nbformat": 4,
 "nbformat_minor": 5
}
